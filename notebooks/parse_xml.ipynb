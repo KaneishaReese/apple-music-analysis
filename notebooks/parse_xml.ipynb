{
 "cells": [
  {
   "cell_type": "code",
   "execution_count": 2,
   "id": "966ddcb5-a405-40de-a643-186b9e71f51e",
   "metadata": {},
   "outputs": [],
   "source": [
    "import xml.etree.ElementTree as ET\n"
   ]
  },
  {
   "cell_type": "code",
   "execution_count": 5,
   "id": "63217ae6-5505-4649-ad1a-dbe78c58f5f1",
   "metadata": {},
   "outputs": [],
   "source": [
    "# XML file path\n",
    "XML_FILE_PATH = \"../data/raw/Library.xml\"\n",
    "\n",
    "# Load and parse the XML\n",
    "tree = ET.parse(XML_FILE_PATH)\n",
    "root = tree.getroot()\n",
    "\n",
    "def print_xml_tree(elem, level=0):\n",
    "    indent = \"    \" * level\n",
    "    tag = elem.tag\n",
    "    text = elem.text.strip() if elem.text else \"\"\n",
    "    if text and len(text) > 50:\n",
    "        text = text[:50] + \"...\"  # Truncate long text for clarity\n",
    "    print(f\"{indent}- <{tag}>: {text}\")\n",
    "    \n",
    "    for child in elem:\n",
    "        print_xml_tree(child, level + 1)\n"
   ]
  },
  {
   "cell_type": "code",
   "execution_count": 7,
   "id": "de344963-3e46-44f2-8e54-b67429ba3f6e",
   "metadata": {},
   "outputs": [
    {
     "name": "stderr",
     "output_type": "stream",
     "text": [
      "IOPub data rate exceeded.\n",
      "The Jupyter server will temporarily stop sending output\n",
      "to the client in order to avoid crashing it.\n",
      "To change this limit, set the config variable\n",
      "`--ServerApp.iopub_data_rate_limit`.\n",
      "\n",
      "Current values:\n",
      "ServerApp.iopub_data_rate_limit=1000000.0 (bytes/sec)\n",
      "ServerApp.rate_limit_window=3.0 (secs)\n",
      "\n"
     ]
    }
   ],
   "source": [
    "# Start from root\n",
    "print(\"📁 XML Tree Structure:\\n\")\n",
    "print_xml_tree(root)"
   ]
  }
 ],
 "metadata": {
  "kernelspec": {
   "display_name": "Python 3 (ipykernel)",
   "language": "python",
   "name": "python3"
  },
  "language_info": {
   "codemirror_mode": {
    "name": "ipython",
    "version": 3
   },
   "file_extension": ".py",
   "mimetype": "text/x-python",
   "name": "python",
   "nbconvert_exporter": "python",
   "pygments_lexer": "ipython3",
   "version": "3.11.7"
  }
 },
 "nbformat": 4,
 "nbformat_minor": 5
}
