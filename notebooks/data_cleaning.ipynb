{
 "cells": [
  {
   "cell_type": "code",
   "execution_count": 3,
   "id": "74e42120-f7ee-453c-8c42-92fe188a2a94",
   "metadata": {},
   "outputs": [
    {
     "name": "stdout",
     "output_type": "stream",
     "text": [
      "<class 'pandas.core.frame.DataFrame'>\n",
      "RangeIndex: 1026 entries, 0 to 1025\n",
      "Data columns (total 3 columns):\n",
      " #   Column    Non-Null Count  Dtype \n",
      "---  ------    --------------  ----- \n",
      " 0   playlist  1026 non-null   object\n",
      " 1   track_id  1026 non-null   int64 \n",
      " 2   year      1026 non-null   int64 \n",
      "dtypes: int64(2), object(1)\n",
      "memory usage: 24.2+ KB\n",
      "None\n",
      "*****************************************************************\n",
      "<class 'pandas.core.frame.DataFrame'>\n",
      "RangeIndex: 1943 entries, 0 to 1942\n",
      "Data columns (total 14 columns):\n",
      " #   Column               Non-Null Count  Dtype  \n",
      "---  ------               --------------  -----  \n",
      " 0   Track ID             1943 non-null   int64  \n",
      " 1   Title                1943 non-null   object \n",
      " 2   Artist               1467 non-null   object \n",
      " 3   Composer             1372 non-null   object \n",
      " 4   Album                1452 non-null   object \n",
      " 5   Genre                1433 non-null   object \n",
      " 6   Release Date         747 non-null    object \n",
      " 7   Kind                 1437 non-null   object \n",
      " 8   Total Time (ms)      1471 non-null   float64\n",
      " 9   Date Modified        1471 non-null   object \n",
      " 10  Date Added           1100 non-null   object \n",
      " 11  Release Date (Raw)   747 non-null    object \n",
      " 12  Date Modified (Raw)  1471 non-null   object \n",
      " 13  Date Added (Raw)     1100 non-null   object \n",
      "dtypes: float64(1), int64(1), object(12)\n",
      "memory usage: 212.6+ KB\n",
      "None\n",
      "*****************************************************************\n",
      "<class 'pandas.core.frame.DataFrame'>\n",
      "RangeIndex: 498052 entries, 0 to 498051\n",
      "Data columns (total 39 columns):\n",
      " #   Column                          Non-Null Count   Dtype  \n",
      "---  ------                          --------------   -----  \n",
      " 0   Artist(s)                       498052 non-null  object \n",
      " 1   song                            498038 non-null  object \n",
      " 2   text                            498052 non-null  object \n",
      " 3   Length                          498052 non-null  object \n",
      " 4   emotion                         498052 non-null  object \n",
      " 5   Genre                           498052 non-null  object \n",
      " 6   Album                           498003 non-null  object \n",
      " 7   Release Date                    350369 non-null  object \n",
      " 8   Key                             498052 non-null  object \n",
      " 9   Tempo                           498052 non-null  float64\n",
      " 10  Loudness (db)                   498052 non-null  float64\n",
      " 11  Time signature                  498044 non-null  object \n",
      " 12  Explicit                        498052 non-null  object \n",
      " 13  Popularity                      498052 non-null  int64  \n",
      " 14  Energy                          498052 non-null  int64  \n",
      " 15  Danceability                    498052 non-null  int64  \n",
      " 16  Positiveness                    498052 non-null  int64  \n",
      " 17  Speechiness                     498052 non-null  int64  \n",
      " 18  Liveness                        498052 non-null  int64  \n",
      " 19  Acousticness                    498052 non-null  int64  \n",
      " 20  Instrumentalness                498052 non-null  int64  \n",
      " 21  Good for Party                  498052 non-null  int64  \n",
      " 22  Good for Work/Study             498052 non-null  int64  \n",
      " 23  Good for Relaxation/Meditation  498052 non-null  int64  \n",
      " 24  Good for Exercise               498052 non-null  int64  \n",
      " 25  Good for Running                498052 non-null  int64  \n",
      " 26  Good for Yoga/Stretching        498052 non-null  int64  \n",
      " 27  Good for Driving                498052 non-null  int64  \n",
      " 28  Good for Social Gatherings      498052 non-null  int64  \n",
      " 29  Good for Morning Routine        498052 non-null  int64  \n",
      " 30  Similar Artist 1                498052 non-null  object \n",
      " 31  Similar Song 1                  498033 non-null  object \n",
      " 32  Similarity Score 1              498052 non-null  float64\n",
      " 33  Similar Artist 2                498052 non-null  object \n",
      " 34  Similar Song 2                  498036 non-null  object \n",
      " 35  Similarity Score 2              498052 non-null  float64\n",
      " 36  Similar Artist 3                498052 non-null  object \n",
      " 37  Similar Song 3                  498048 non-null  object \n",
      " 38  Similarity Score 3              498052 non-null  float64\n",
      "dtypes: float64(5), int64(17), object(17)\n",
      "memory usage: 148.2+ MB\n",
      "None\n"
     ]
    }
   ],
   "source": [
    "import pandas as pd\n",
    "\n",
    "# Load csv files into DataFrames\n",
    "top_songs = pd.read_csv('../data/interim/top_songs_by_year.csv')\n",
    "all_songs = pd.read_csv('../data/interim/all_songs.csv')\n",
    "spotify_songs = pd.read_csv('../data/raw/spotify_dataset.csv')\n",
    "print(top_songs.info())\n",
    "print('*****************************************************************')\n",
    "print(all_songs.info())\n",
    "print('*****************************************************************')\n",
    "print(spotify_songs.info())"
   ]
  },
  {
   "cell_type": "code",
   "execution_count": 5,
   "id": "f6d5e4c3-ab80-4984-8dae-7dc391bfe6d6",
   "metadata": {},
   "outputs": [
    {
     "data": {
      "text/plain": [
       "Index(['Artist(s)', 'song', 'text', 'Length', 'emotion', 'Genre', 'Album',\n",
       "       'Release Date', 'Key', 'Tempo', 'Loudness (db)', 'Time signature',\n",
       "       'Explicit', 'Popularity', 'Energy', 'Danceability', 'Positiveness',\n",
       "       'Speechiness', 'Liveness', 'Acousticness', 'Instrumentalness',\n",
       "       'Good for Party', 'Good for Work/Study',\n",
       "       'Good for Relaxation/Meditation', 'Good for Exercise',\n",
       "       'Good for Running', 'Good for Yoga/Stretching', 'Good for Driving',\n",
       "       'Good for Social Gatherings', 'Good for Morning Routine',\n",
       "       'Similar Artist 1', 'Similar Song 1', 'Similarity Score 1',\n",
       "       'Similar Artist 2', 'Similar Song 2', 'Similarity Score 2',\n",
       "       'Similar Artist 3', 'Similar Song 3', 'Similarity Score 3'],\n",
       "      dtype='object')"
      ]
     },
     "execution_count": 5,
     "metadata": {},
     "output_type": "execute_result"
    }
   ],
   "source": [
    "spotify_songs.columns"
   ]
  },
  {
   "cell_type": "code",
   "execution_count": 3,
   "id": "4702f368-3dc1-4f24-9825-0ab3888f1924",
   "metadata": {},
   "outputs": [
    {
     "name": "stdout",
     "output_type": "stream",
     "text": [
      "<class 'pandas.core.frame.DataFrame'>\n",
      "RangeIndex: 1026 entries, 0 to 1025\n",
      "Data columns (total 21 columns):\n",
      " #   Column               Non-Null Count  Dtype  \n",
      "---  ------               --------------  -----  \n",
      " 0   playlist             1026 non-null   object \n",
      " 1   track_id             1026 non-null   int64  \n",
      " 2   year                 1026 non-null   int64  \n",
      " 3   Title                1026 non-null   object \n",
      " 4   Artist               656 non-null    object \n",
      " 5   Composer             597 non-null    object \n",
      " 6   Album                656 non-null    object \n",
      " 7   Genre                656 non-null    object \n",
      " 8   Release Date         332 non-null    object \n",
      " 9   Kind                 636 non-null    object \n",
      " 10  Total Time (ms)      656 non-null    float64\n",
      " 11  Date Modified        656 non-null    object \n",
      " 12  Date Added           421 non-null    object \n",
      " 13  Release Date (Raw)   332 non-null    object \n",
      " 14  Date Modified (Raw)  656 non-null    object \n",
      " 15  Date Added (Raw)     421 non-null    object \n",
      " 16  Unnamed: 0           975 non-null    float64\n",
      " 17  spotify_id           975 non-null    object \n",
      " 18  artist               975 non-null    object \n",
      " 19  title                975 non-null    object \n",
      " 20  popularity           975 non-null    float64\n",
      "dtypes: float64(3), int64(2), object(16)\n",
      "memory usage: 168.5+ KB\n",
      "None\n"
     ]
    }
   ],
   "source": [
    "# Standardizing column names\n",
    "all_songs = all_songs.rename(columns={\"Track ID\": \"track_id\"})\n",
    "spotify_songs = spotify_songs.rename(columns={\"apple_id\": \"track_id\"})\n",
    "\n",
    "# Merge the first two dataframes\n",
    "merged_df = top_songs.merge(all_songs, on=\"track_id\", how=\"left\", suffixes=('', '_apple'))\n",
    "\n",
    "# Merge the result with the third dataframe\n",
    "final_df = merged_df.merge(spotify_songs, on=\"track_id\", how=\"left\", suffixes=('', '_spotify'))\n",
    "\n",
    "# Display final structure\n",
    "print(final_df.info())"
   ]
  },
  {
   "cell_type": "code",
   "execution_count": 4,
   "id": "fc7b6299-ebbc-4c30-bfa2-ad876504d2eb",
   "metadata": {},
   "outputs": [
    {
     "name": "stdout",
     "output_type": "stream",
     "text": [
      "<class 'pandas.core.frame.DataFrame'>\n",
      "RangeIndex: 1026 entries, 0 to 1025\n",
      "Data columns (total 9 columns):\n",
      " #   Column      Non-Null Count  Dtype  \n",
      "---  ------      --------------  -----  \n",
      " 0   playlist    1026 non-null   object \n",
      " 1   track_id    1026 non-null   int64  \n",
      " 2   year        1026 non-null   int64  \n",
      " 3   Title       1026 non-null   object \n",
      " 4   Artist      1012 non-null   object \n",
      " 5   Album       656 non-null    object \n",
      " 6   Genre       656 non-null    object \n",
      " 7   spotify_id  975 non-null    object \n",
      " 8   popularity  975 non-null    float64\n",
      "dtypes: float64(1), int64(2), object(6)\n",
      "memory usage: 72.3+ KB\n",
      "None\n",
      "      playlist  track_id  year  \\\n",
      "0  Replay 2015      1424  2015   \n",
      "1  Replay 2015      1412  2015   \n",
      "2  Replay 2015      3587  2015   \n",
      "3  Replay 2015      1506  2015   \n",
      "4  Replay 2015      2247  2015   \n",
      "\n",
      "                                               Title           Artist  \\\n",
      "0  Highway Don't Care (feat. Taylor Swift & Keith...       Tim McGraw   \n",
      "1                            I Knew You Were Trouble     Taylor Swift   \n",
      "2                                         Girl Crush  Little Big Town   \n",
      "3                                            Sangria    Blake Shelton   \n",
      "4                                   Forever & Always     Randy Travis   \n",
      "\n",
      "         Album    Genre              spotify_id  popularity  \n",
      "0          NaN      NaN  4wFUdSCer8bdQsrp1M90sa        66.0  \n",
      "1          NaN      NaN  6FB3v4YcR57y4tXFcdxI1E        77.0  \n",
      "2  Pain Killer  Country  11qh54D0PKkBwelpDxxiEU        68.0  \n",
      "3          NaN      NaN  0p1HtkrNYxv0iDfEKwXSTp        68.0  \n",
      "4          NaN      NaN  1ipcb9qXpSHWhSUvdxJhsx        77.0  \n"
     ]
    }
   ],
   "source": [
    "# Prioritizing non-null values for Artist and Title\n",
    "final_df[\"Artist\"] = final_df[\"Artist\"].fillna(final_df[\"artist\"])\n",
    "final_df[\"Title\"] = final_df[\"Title\"].fillna(final_df[\"title\"])\n",
    "\n",
    "# Selecting the required columns\n",
    "filtered = final_df.loc[:, [\"playlist\", \"track_id\", \"year\", \"Title\", \"Artist\", \"Album\", \"Genre\", \"spotify_id\", \"popularity\"]]\n",
    "\n",
    "# Display the result\n",
    "print(filtered.info())\n",
    "print(filtered.head())"
   ]
  },
  {
   "cell_type": "code",
   "execution_count": 11,
   "id": "093f952f-5941-4e4d-8755-5391dc1e4cc2",
   "metadata": {},
   "outputs": [],
   "source": [
    "# Find the most common genre for each artist\n",
    "artist_genre_map = filtered.groupby(\"Artist\")[\"Genre\"].agg(lambda x: x.mode().iloc[0] if not x.mode().empty else None)\n"
   ]
  },
  {
   "cell_type": "code",
   "execution_count": 17,
   "id": "68507fa5-f124-41b0-9e2b-9c10c65cbcfc",
   "metadata": {},
   "outputs": [],
   "source": [
    "# Fill missing genres using the most common genre per artist\n",
    "filtered[\"Genre2\"] = filtered[\"Genre\"].fillna(filtered[\"Artist\"].map(artist_genre_map))\n",
    "filtered.to_csv('../data/interim/dataset.csv')"
   ]
  }
 ],
 "metadata": {
  "kernelspec": {
   "display_name": "Python 3 (ipykernel)",
   "language": "python",
   "name": "python3"
  },
  "language_info": {
   "codemirror_mode": {
    "name": "ipython",
    "version": 3
   },
   "file_extension": ".py",
   "mimetype": "text/x-python",
   "name": "python",
   "nbconvert_exporter": "python",
   "pygments_lexer": "ipython3",
   "version": "3.11.7"
  }
 },
 "nbformat": 4,
 "nbformat_minor": 5
}
