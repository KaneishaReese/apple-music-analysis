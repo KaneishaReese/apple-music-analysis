{
 "cells": [
  {
   "cell_type": "code",
   "execution_count": 41,
   "id": "b6bc5523-4931-4c07-9758-d0ea8925d21a",
   "metadata": {},
   "outputs": [
    {
     "name": "stdout",
     "output_type": "stream",
     "text": [
      "Requirement already satisfied: requests in /opt/anaconda3/lib/python3.11/site-packages (2.32.3)\n",
      "Requirement already satisfied: beautifulsoup4 in /opt/anaconda3/lib/python3.11/site-packages (4.12.2)\n",
      "Requirement already satisfied: pandas in /opt/anaconda3/lib/python3.11/site-packages (2.1.4)\n",
      "Requirement already satisfied: selenium in /opt/anaconda3/lib/python3.11/site-packages (4.29.0)\n",
      "Collecting webdriver-manager\n",
      "  Downloading webdriver_manager-4.0.2-py2.py3-none-any.whl.metadata (12 kB)\n",
      "Requirement already satisfied: charset-normalizer<4,>=2 in /opt/anaconda3/lib/python3.11/site-packages (from requests) (2.0.4)\n",
      "Requirement already satisfied: idna<4,>=2.5 in /opt/anaconda3/lib/python3.11/site-packages (from requests) (3.4)\n",
      "Requirement already satisfied: urllib3<3,>=1.21.1 in /opt/anaconda3/lib/python3.11/site-packages (from requests) (2.0.7)\n",
      "Requirement already satisfied: certifi>=2017.4.17 in /opt/anaconda3/lib/python3.11/site-packages (from requests) (2024.12.14)\n",
      "Requirement already satisfied: soupsieve>1.2 in /opt/anaconda3/lib/python3.11/site-packages (from beautifulsoup4) (2.5)\n",
      "Requirement already satisfied: numpy<2,>=1.23.2 in /opt/anaconda3/lib/python3.11/site-packages (from pandas) (1.26.4)\n",
      "Requirement already satisfied: python-dateutil>=2.8.2 in /opt/anaconda3/lib/python3.11/site-packages (from pandas) (2.8.2)\n",
      "Requirement already satisfied: pytz>=2020.1 in /opt/anaconda3/lib/python3.11/site-packages (from pandas) (2023.3.post1)\n",
      "Requirement already satisfied: tzdata>=2022.1 in /opt/anaconda3/lib/python3.11/site-packages (from pandas) (2023.3)\n",
      "Requirement already satisfied: trio~=0.17 in /opt/anaconda3/lib/python3.11/site-packages (from selenium) (0.29.0)\n",
      "Requirement already satisfied: trio-websocket~=0.9 in /opt/anaconda3/lib/python3.11/site-packages (from selenium) (0.12.2)\n",
      "Requirement already satisfied: typing_extensions~=4.9 in /opt/anaconda3/lib/python3.11/site-packages (from selenium) (4.12.2)\n",
      "Requirement already satisfied: websocket-client~=1.8 in /opt/anaconda3/lib/python3.11/site-packages (from selenium) (1.8.0)\n",
      "Requirement already satisfied: python-dotenv in /opt/anaconda3/lib/python3.11/site-packages (from webdriver-manager) (0.21.0)\n",
      "Requirement already satisfied: packaging in /opt/anaconda3/lib/python3.11/site-packages (from webdriver-manager) (23.1)\n",
      "Requirement already satisfied: six>=1.5 in /opt/anaconda3/lib/python3.11/site-packages (from python-dateutil>=2.8.2->pandas) (1.16.0)\n",
      "Requirement already satisfied: attrs>=23.2.0 in /opt/anaconda3/lib/python3.11/site-packages (from trio~=0.17->selenium) (25.3.0)\n",
      "Requirement already satisfied: sortedcontainers in /opt/anaconda3/lib/python3.11/site-packages (from trio~=0.17->selenium) (2.4.0)\n",
      "Requirement already satisfied: outcome in /opt/anaconda3/lib/python3.11/site-packages (from trio~=0.17->selenium) (1.3.0.post0)\n",
      "Requirement already satisfied: sniffio>=1.3.0 in /opt/anaconda3/lib/python3.11/site-packages (from trio~=0.17->selenium) (1.3.0)\n",
      "Requirement already satisfied: wsproto>=0.14 in /opt/anaconda3/lib/python3.11/site-packages (from trio-websocket~=0.9->selenium) (1.2.0)\n",
      "Requirement already satisfied: pysocks!=1.5.7,<2.0,>=1.5.6 in /opt/anaconda3/lib/python3.11/site-packages (from urllib3[socks]<3,>=1.26->selenium) (1.7.1)\n",
      "Requirement already satisfied: h11<1,>=0.9.0 in /opt/anaconda3/lib/python3.11/site-packages (from wsproto>=0.14->trio-websocket~=0.9->selenium) (0.14.0)\n",
      "Downloading webdriver_manager-4.0.2-py2.py3-none-any.whl (27 kB)\n",
      "Installing collected packages: webdriver-manager\n",
      "Successfully installed webdriver-manager-4.0.2\n",
      "Note: you may need to restart the kernel to use updated packages.\n"
     ]
    }
   ],
   "source": [
    "\n",
    "pip install requests beautifulsoup4 pandas selenium webdriver-manager\n"
   ]
  },
  {
   "cell_type": "code",
   "execution_count": 81,
   "id": "5774277a-367a-43a1-9fcd-c4706f70f6f6",
   "metadata": {},
   "outputs": [],
   "source": [
    "import xml.etree.ElementTree as ET\n",
    "import pandas as pd"
   ]
  },
  {
   "cell_type": "code",
   "execution_count": 401,
   "id": "3467e61b-246e-4326-be45-043f18de743f",
   "metadata": {},
   "outputs": [],
   "source": [
    "\n",
    "# Replace with the path to your exported Apple Music XML file\n",
    "XML_FILE_PATH = \"../data/raw/Library.xml\""
   ]
  },
  {
   "cell_type": "code",
   "execution_count": 403,
   "id": "f9c597dd-1672-4d93-9986-c10e22fc985d",
   "metadata": {},
   "outputs": [],
   "source": [
    "# Parse the XML file\n",
    "tree = ET.parse(XML_FILE_PATH)\n",
    "root = tree.getroot()\n"
   ]
  },
  {
   "cell_type": "code",
   "execution_count": 405,
   "id": "162c1578-b1d9-4b28-865f-e55919a81932",
   "metadata": {},
   "outputs": [
    {
     "name": "stdout",
     "output_type": "stream",
     "text": [
      "1026\n"
     ]
    }
   ],
   "source": [
    "playlists = []\n",
    "# Find all Replay Playlists and add track ids to list\n",
    "for child in root.findall('dict/array/dict'):\n",
    "    if 'Replay' in child.find('string').text:\n",
    "        # print('made it')\n",
    "        for int in child.findall('array/dict/integer'):\n",
    "            # print(int.text)\n",
    "            playlists.append({'playlist': child.find('string').text, 'track_id': int.text})\n",
    "            \n",
    "print(len(playlists))\n"
   ]
  },
  {
   "cell_type": "code",
   "execution_count": 416,
   "id": "52bb4b3d-2f2a-4668-84ac-7f2fec4080d3",
   "metadata": {},
   "outputs": [
    {
     "name": "stdout",
     "output_type": "stream",
     "text": [
      "      playlist track_id  year\n",
      "0  Replay 2015     1424  2015\n",
      "1  Replay 2015     1412  2015\n",
      "2  Replay 2015     3587  2015\n",
      "3  Replay 2015     1506  2015\n",
      "4  Replay 2015     2247  2015\n"
     ]
    }
   ],
   "source": [
    "#Convert list to DataFrame\n",
    "df_playlists = pd.DataFrame(playlists)\n",
    "df_playlists['year'] = df_playlists['playlist'].str.replace('Replay ','').astype('int')\n",
    "print(df_playlists.head())"
   ]
  },
  {
   "cell_type": "code",
   "execution_count": 418,
   "id": "93634154-8b74-4c76-be52-d8fc43fb0157",
   "metadata": {},
   "outputs": [
    {
     "name": "stdout",
     "output_type": "stream",
     "text": [
      "Library data saved to ../data/processed/top_songs_by_year.csv\n"
     ]
    }
   ],
   "source": [
    "# # Save to CSV\n",
    "df_playlists.to_csv(\"../data/processed/top_songs_by_year.csv\", index=False)\n",
    "print(\"Library data saved to ../data/processed/top_songs_by_year.csv\")"
   ]
  },
  {
   "cell_type": "code",
   "execution_count": 425,
   "id": "9638ffcf-8dc7-4ed0-95cf-ec6d784d83b5",
   "metadata": {},
   "outputs": [
    {
     "data": {
      "text/plain": [
       "694"
      ]
     },
     "execution_count": 425,
     "metadata": {},
     "output_type": "execute_result"
    }
   ],
   "source": [
    "df_playlists['track_id'].nunique() "
   ]
  }
 ],
 "metadata": {
  "kernelspec": {
   "display_name": "Python 3 (ipykernel)",
   "language": "python",
   "name": "python3"
  },
  "language_info": {
   "codemirror_mode": {
    "name": "ipython",
    "version": 3
   },
   "file_extension": ".py",
   "mimetype": "text/x-python",
   "name": "python",
   "nbconvert_exporter": "python",
   "pygments_lexer": "ipython3",
   "version": "3.11.7"
  }
 },
 "nbformat": 4,
 "nbformat_minor": 5
}
