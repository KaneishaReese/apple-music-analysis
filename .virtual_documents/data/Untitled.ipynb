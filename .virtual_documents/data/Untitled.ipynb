import pandas as pd


top_songs = pd.read_csv('../data/interim/top_songs_by_year.csv')
all_songs = pd.read_csv('../data/interim/all_songs.csv')

print(top_songs.head())
print(all_songs.head())


all_songs.info()

all_songs = all_songs.rename(columns={
    'Track ID': 'track_id',
    'Release Date': 'release_date',
    'Total Time (ms)': 'total_time_ms',
    'Date Modified': 'date_modified',
    'Date Added': 'date_added'})

all_songs.info()



top_songs_detail = top_songs.merge(all_songs, on='track_id', how='left')
top_songs_detail.info()
