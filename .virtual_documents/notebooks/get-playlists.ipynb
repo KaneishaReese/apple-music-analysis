
pip install requests beautifulsoup4 pandas selenium webdriver-manager



import xml.etree.ElementTree as ET
import pandas as pd



# Replace with the path to your exported Apple Music XML file
XML_FILE_PATH = "../data/raw/Library.xml"


# Parse the XML file
tree = ET.parse(XML_FILE_PATH)
root = tree.getroot()



playlists = []
# Find all Replay Playlists and add track ids to list
for child in root.findall('dict/array/dict'):
    if 'Replay' in child.find('string').text:
        # print('made it')
        for int in child.findall('array/dict/integer'):
            # print(int.text)
            playlists.append({'playlist': child.find('string').text, 'track_id': int.text})
            
print(len(playlists))



#Convert list to DataFrame
df_playlists = pd.DataFrame(playlists)
df_playlists['year'] = df_playlists['playlist'].str.replace('Replay ','').astype('int')
print(df_playlists.head())


# # Save to CSV
df_playlists.to_csv("../data/processed/top_songs_by_year.csv", index=False)
print("Library data saved to ../data/processed/top_songs_by_year.csv")


df_playlists['track_id'].nunique() 
