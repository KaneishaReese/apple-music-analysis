import time
import requests
import pandas as pd


top_songs = pd.read_csv('../data/interim/top_songs_by_year.csv')
all_songs = pd.read_csv('../data/interim/all_songs.csv')

print(top_songs.head())
print(all_songs.head())


all_songs = all_songs.rename(columns={
    'Track ID': 'track_id',
    'Release Date': 'release_date',
    'Total Time (ms)': 'total_time_ms',
    'Date Modified': 'date_modified',
    'Date Added': 'date_added'})

top_songs_detail = top_songs.merge(all_songs, on='track_id', how='left')
top_songs_detail.info()





# Get access token
def get_spotify_token():
    url = "https://accounts.spotify.com/api/token"
    headers = {"Content-Type": "application/x-www-form-urlencoded"}
    data = {"grant_type": "client_credentials"}
    response = requests.post(url, headers=headers, data=data, auth=(CLIENT_ID, CLIENT_SECRET))
    return response.json().get("access_token")


# Search Spotify for a track
def search_spotify(title, artist, token):
    query = f"track:{title}"
    if pd.notna(artist):  # Only add artist if it's not NaN
        query += f" artist:{artist}"
    
    url = f"https://api.spotify.com/v1/search?q={query}&type=track&limit=1"
    headers = {"Authorization": f"Bearer {token}"}

    for attempt in range(5):  # Retry up to 5 times
        response = requests.get(url, headers=headers)
        if response.status_code == 200:
            return response.json()
        elif response.status_code == 429:  # Rate limit hit
            retry_after = int(response.headers.get("Retry-After", 5))  # Default 5 sec
            print(f"Rate limit exceeded. Retrying after {retry_after} seconds...")
            time.sleep(retry_after)
        else:
            print(f"Error {response.status_code}: {response.text}")
            time.sleep(2)  # Wait before retrying
    
    return None


# Example usage
token = get_spotify_token()
song_info = search_spotify("Shape of You", "Ed Sheeran", token)
print((song_info))


song_info['tracks']['items'][0].keys()


if song_info['tracks'] :
    print('hi')


song_info['tracks']['items'][0]['artists'][0]['name']


{'spotify_id': song_info['tracks']['items'][0]['id'],
            'artist': song_info['tracks']['items'][0]['artists'][0]['name'],
            'title': song_info['tracks']['items'][0]['name'],
            'popularity': song_info['tracks']['items'][0]['popularity'],
        }


# Remove duplicates to ensure unique track_id queries
unique_tracks = top_songs_detail[['track_id', 'Title', 'Artist']].drop_duplicates()
unique_tracks.info()



# Store results
results = []
missing = []
token = get_spotify_token()
# Loop through unique tracks and query Spotify API
for i, row in unique_tracks.iterrows():
    track_id = row["track_id"]
    title = row["Title"]
    artist = row["Artist"]

    print(f"Searching for: {title} by {artist}")
    song_info = search_spotify(title, artist, token)

    # Check if 'tracks' exists and has items before accessing
    if song_info.get('tracks') and song_info['tracks'].get('items'):
        first_item = song_info['tracks']['items'][0]
        results.append({
            'apple_id': track_id,
            'spotify_id': first_item['id'],
            'artist': first_item['artists'][0]['name'],
            'title': first_item['name'],
            'popularity': first_item['popularity'],
        })
    else:
        print(f"No results found for {title} by {artist}")
        missing.append(track_id)

    # Introduce delay every 50 requests to avoid rate limits
    if (i + 1) % 50 == 0:
        print("Pausing to avoid rate limits...")
        time.sleep(10)  # Pause for 10 seconds

    # Small delay between requests to reduce the risk of hitting rate limits
    time.sleep(0.5)


len(missing)


len(results)


missing_df= pd.DataFrame(missing)
results_df= pd.DataFrame(results)


missing_df.to_csv('../data/interim/spotify_search_missing.csv')
results_df.to_csv('../data/interim/spotify_search_results.csv')
