{
 "cells": [
  {
   "cell_type": "code",
   "execution_count": 10,
   "id": "ab85f300-15e8-468b-a880-a68332390c79",
   "metadata": {},
   "outputs": [
    {
     "name": "stdout",
     "output_type": "stream",
     "text": [
      "      playlist  track_id  year\n",
      "0  Replay 2015      1424  2015\n",
      "1  Replay 2015      1412  2015\n",
      "2  Replay 2015      3587  2015\n",
      "3  Replay 2015      1506  2015\n",
      "4  Replay 2015      2247  2015\n",
      "   Track ID                 Title               Artist  \\\n",
      "0      5253            Wanna Know            Mya Lanae   \n",
      "1      5251               Anxiety  Megan Thee Stallion   \n",
      "2      5171           Villain Era             Peachkka   \n",
      "3      5153            Innerstood         Shariya Wise   \n",
      "4      5157  Sweet Like Candyland         Shariya Wise   \n",
      "\n",
      "                                    Composer                 Album  \\\n",
      "0  Ethan Smith Jr., Abel Herrera & Mya Smith   Wanna Know - Single   \n",
      "1                   Kevin Price & Megan Pete            Traumazine   \n",
      "2        Nikkole Maresa Baker & Kerby Joseph  Villain Era - Single   \n",
      "3                     Ashlee Shariya Lombard   Baddie Affirmations   \n",
      "4                     Ashlee Shariya Lombard   Baddie Affirmations   \n",
      "\n",
      "         Genre         Release Date                        Kind  \\\n",
      "0     R&B/Soul  2022-03-18 12:00:00  Apple Music AAC audio file   \n",
      "1  Hip-Hop/Rap  2022-08-12 07:00:00  Apple Music AAC audio file   \n",
      "2  Hip-Hop/Rap  2022-03-05 12:00:00  Apple Music AAC audio file   \n",
      "3  Hip-Hop/Rap  2024-11-22 12:00:00  Apple Music AAC audio file   \n",
      "4  Hip-Hop/Rap  2024-11-22 12:00:00  Apple Music AAC audio file   \n",
      "\n",
      "   Total Time (ms)        Date Modified           Date Added  \\\n",
      "0         178573.0  2025-03-16 18:40:25                  NaN   \n",
      "1         135867.0  2025-03-16 18:32:18                  NaN   \n",
      "2         150079.0  2025-03-10 16:29:07  2025-03-10 16:29:07   \n",
      "3         147879.0  2025-03-10 15:50:16  2025-03-10 15:50:16   \n",
      "4         187826.0  2025-03-10 15:50:16  2025-03-10 15:50:16   \n",
      "\n",
      "     Release Date (Raw)   Date Modified (Raw)      Date Added (Raw)  \n",
      "0  2022-03-18T12:00:00Z  2025-03-16T18:40:25Z                   NaN  \n",
      "1  2022-08-12T07:00:00Z  2025-03-16T18:32:18Z                   NaN  \n",
      "2  2022-03-05T12:00:00Z  2025-03-10T16:29:07Z  2025-03-10T16:29:07Z  \n",
      "3  2024-11-22T12:00:00Z  2025-03-10T15:50:16Z  2025-03-10T15:50:16Z  \n",
      "4  2024-11-22T12:00:00Z  2025-03-10T15:50:16Z  2025-03-10T15:50:16Z  \n"
     ]
    }
   ],
   "source": [
    "import pandas as pd\n",
    "\n",
    "\n",
    "top_songs = pd.read_csv('../data/interim/top_songs_by_year.csv')\n",
    "all_songs = pd.read_csv('../data/interim/all_songs.csv')\n",
    "\n",
    "print(top_songs.head())\n",
    "print(all_songs.head())"
   ]
  },
  {
   "cell_type": "code",
   "execution_count": 16,
   "id": "0b8a3667-8dc7-46ac-81f1-5536e04d3c99",
   "metadata": {},
   "outputs": [
    {
     "name": "stdout",
     "output_type": "stream",
     "text": [
      "<class 'pandas.core.frame.DataFrame'>\n",
      "RangeIndex: 1943 entries, 0 to 1942\n",
      "Data columns (total 14 columns):\n",
      " #   Column               Non-Null Count  Dtype  \n",
      "---  ------               --------------  -----  \n",
      " 0   Track ID             1943 non-null   int64  \n",
      " 1   Title                1943 non-null   object \n",
      " 2   Artist               1467 non-null   object \n",
      " 3   Composer             1372 non-null   object \n",
      " 4   Album                1452 non-null   object \n",
      " 5   Genre                1433 non-null   object \n",
      " 6   Release Date         747 non-null    object \n",
      " 7   Kind                 1437 non-null   object \n",
      " 8   Total Time (ms)      1471 non-null   float64\n",
      " 9   Date Modified        1471 non-null   object \n",
      " 10  Date Added           1100 non-null   object \n",
      " 11  Release Date (Raw)   747 non-null    object \n",
      " 12  Date Modified (Raw)  1471 non-null   object \n",
      " 13  Date Added (Raw)     1100 non-null   object \n",
      "dtypes: float64(1), int64(1), object(12)\n",
      "memory usage: 212.6+ KB\n",
      "<class 'pandas.core.frame.DataFrame'>\n",
      "RangeIndex: 1943 entries, 0 to 1942\n",
      "Data columns (total 14 columns):\n",
      " #   Column               Non-Null Count  Dtype  \n",
      "---  ------               --------------  -----  \n",
      " 0   track_id             1943 non-null   int64  \n",
      " 1   Title                1943 non-null   object \n",
      " 2   Artist               1467 non-null   object \n",
      " 3   Composer             1372 non-null   object \n",
      " 4   Album                1452 non-null   object \n",
      " 5   Genre                1433 non-null   object \n",
      " 6   release_date         747 non-null    object \n",
      " 7   Kind                 1437 non-null   object \n",
      " 8   total_time_ms        1471 non-null   float64\n",
      " 9   date_modified        1471 non-null   object \n",
      " 10  date_added           1100 non-null   object \n",
      " 11  Release Date (Raw)   747 non-null    object \n",
      " 12  Date Modified (Raw)  1471 non-null   object \n",
      " 13  Date Added (Raw)     1100 non-null   object \n",
      "dtypes: float64(1), int64(1), object(12)\n",
      "memory usage: 212.6+ KB\n"
     ]
    }
   ],
   "source": [
    "all_songs.info()\n",
    "\n",
    "all_songs = all_songs.rename(columns={\n",
    "    'Track ID': 'track_id',\n",
    "    'Release Date': 'release_date',\n",
    "    'Total Time (ms)': 'total_time_ms',\n",
    "    'Date Modified': 'date_modified',\n",
    "    'Date Added': 'date_added'})\n",
    "\n",
    "all_songs.info()\n"
   ]
  },
  {
   "cell_type": "code",
   "execution_count": 32,
   "id": "4baa37a1-988b-4083-849b-a7abe24d0712",
   "metadata": {},
   "outputs": [
    {
     "name": "stdout",
     "output_type": "stream",
     "text": [
      "<class 'pandas.core.frame.DataFrame'>\n",
      "RangeIndex: 1026 entries, 0 to 1025\n",
      "Data columns (total 16 columns):\n",
      " #   Column               Non-Null Count  Dtype  \n",
      "---  ------               --------------  -----  \n",
      " 0   playlist             1026 non-null   object \n",
      " 1   track_id             1026 non-null   int64  \n",
      " 2   year                 1026 non-null   int64  \n",
      " 3   Title                1026 non-null   object \n",
      " 4   Artist               656 non-null    object \n",
      " 5   Composer             597 non-null    object \n",
      " 6   Album                656 non-null    object \n",
      " 7   Genre                656 non-null    object \n",
      " 8   release_date         332 non-null    object \n",
      " 9   Kind                 636 non-null    object \n",
      " 10  total_time_ms        656 non-null    float64\n",
      " 11  date_modified        656 non-null    object \n",
      " 12  date_added           421 non-null    object \n",
      " 13  Release Date (Raw)   332 non-null    object \n",
      " 14  Date Modified (Raw)  656 non-null    object \n",
      " 15  Date Added (Raw)     421 non-null    object \n",
      "dtypes: float64(1), int64(2), object(13)\n",
      "memory usage: 128.4+ KB\n"
     ]
    }
   ],
   "source": [
    "top_songs_detail = top_songs.merge(all_songs, on='track_id', how='left')\n",
    "top_songs_detail.info()"
   ]
  }
 ],
 "metadata": {
  "kernelspec": {
   "display_name": "Python 3 (ipykernel)",
   "language": "python",
   "name": "python3"
  },
  "language_info": {
   "codemirror_mode": {
    "name": "ipython",
    "version": 3
   },
   "file_extension": ".py",
   "mimetype": "text/x-python",
   "name": "python",
   "nbconvert_exporter": "python",
   "pygments_lexer": "ipython3",
   "version": "3.11.7"
  }
 },
 "nbformat": 4,
 "nbformat_minor": 5
}
